{
 "cells": [
  {
   "cell_type": "markdown",
   "metadata": {},
   "source": [
    "## Read Indentures"
   ]
  },
  {
   "cell_type": "code",
   "execution_count": 66,
   "metadata": {},
   "outputs": [],
   "source": [
    "from pdfminer.pdfinterp import PDFResourceManager, PDFPageInterpreter\n",
    "from pdfminer.converter import TextConverter\n",
    "from pdfminer.layout import LAParams\n",
    "from pdfminer.pdfpage import PDFPage\n",
    "from io import StringIO\n",
    "\n",
    "def convert_pdf_to_txt(path):\n",
    "    rsrcmgr = PDFResourceManager()\n",
    "    retstr = StringIO()\n",
    "    codec = 'utf-8'\n",
    "    laparams = LAParams()\n",
    "    device = TextConverter(rsrcmgr, retstr, codec=codec, laparams=laparams)\n",
    "    fp = open(path, 'rb')\n",
    "    interpreter = PDFPageInterpreter(rsrcmgr, device)\n",
    "    password = \"\"\n",
    "    maxpages = 0\n",
    "    caching = True\n",
    "    pagenos=set()\n",
    "\n",
    "    for page in PDFPage.get_pages(fp, pagenos, maxpages=maxpages, password=password,caching=caching, check_extractable=True):\n",
    "        interpreter.process_page(page)\n",
    "\n",
    "    text = retstr.getvalue()\n",
    "\n",
    "    fp.close()\n",
    "    device.close()\n",
    "    retstr.close()\n",
    "    return text"
   ]
  },
  {
   "cell_type": "code",
   "execution_count": 67,
   "metadata": {},
   "outputs": [],
   "source": [
    "path = '/Users/kathy/Desktop/Kanerai/example1.pdf'\n",
    "text = convert_pdf_to_txt(path)"
   ]
  },
  {
   "cell_type": "code",
   "execution_count": 31,
   "metadata": {
    "scrolled": true
   },
   "outputs": [],
   "source": [
    "# print(text)"
   ]
  },
  {
   "cell_type": "code",
   "execution_count": 60,
   "metadata": {},
   "outputs": [
    {
     "data": {
      "text/plain": [
       "'\"Unsalable Asset\" means any Asset with respect to which the Collateral Manager certifies to the Trustee that (a) either (i) such Asset is (A) a Defaulted Obligation, (B) an Equity Security, (C) an obligation received in connection with an offer, in a restructuring or plan of reorganization with respect to the obligor, or (D) any other exchange or any other security or debt obligation that is part of the Assets, in the case of (A), (B) or (C) in respect of which the Issuer has not received a payment in cash during the preceding 12 months or (ii) such Asset has a Market Value of less than $10,000 and (b) the Collateral Manager has made commercially reasonable efforts to dispose of such Asset for at least 90 days and (y) in its commercially reasonable judgment such Asset is not expected to be saleable for the foreseeable future. \"Adjusted Weighted Average Moody\\'s Rating Factor\": As of any date of determination, a number equal to the Weighted Average Moody\\'s Rating Factor determined in the following manner\": for purposes of determining a Moody\\'s Default Probability Rating or Moody\\'s Rating in connection with determining the Weighted Average Moody\\'s Rating Factor for purposes of this definition, each applicable rating on credit watch by Moody\\'s that is on (a) positive watch will be treated as having been upgraded by one rating subcategory, (b) negative watch will be treated as having been downgraded by two rating subcategories and (c) negative outlook will be treated as having been downgraded by one rating subcategory. \"Target Initial Par Condition\" means a condition satisfied as of the Effective Date if the aggregate principal balance of Collateral Obligations that are held by the Issuer and that the Issuer has committed to purchase on such date, together with the amount of any proceeds of prepayments, maturities or redemptions of Collateral Obligations purchased by the Issuer prior to such date (other than any such proceeds that have been reinvested in Collateral Obligations held by the Issuer on the Effective Date), will equal or exceed the Target Initial Par Amount; provided that for purposes of this definition, any Collateral Obligation that becomes a Defaulted Obligation prior to the Effective Date shall be treated as having a principal balance equal to its Moody\\'s Collateral Value. '"
      ]
     },
     "execution_count": 60,
     "metadata": {},
     "output_type": "execute_result"
    }
   ],
   "source": [
    "striptext"
   ]
  },
  {
   "cell_type": "code",
   "execution_count": 61,
   "metadata": {},
   "outputs": [
    {
     "data": {
      "text/plain": [
       "''"
      ]
     },
     "execution_count": 61,
     "metadata": {},
     "output_type": "execute_result"
    }
   ],
   "source": [
    "summary"
   ]
  },
  {
   "cell_type": "markdown",
   "metadata": {},
   "source": [
    "## Similarity Score"
   ]
  },
  {
   "cell_type": "code",
   "execution_count": null,
   "metadata": {},
   "outputs": [],
   "source": [
    "from wordcloud import WordCloud, STOPWORDS\n",
    "import nltk\n",
    "from nltk.corpus import PlaintextCorpusReader\n",
    "from nltk import sent_tokenize,word_tokenize \n",
    "from nltk.corpus import wordnet as wn\n",
    "import gensim.summarization"
   ]
  },
  {
   "cell_type": "code",
   "execution_count": 38,
   "metadata": {},
   "outputs": [],
   "source": [
    "# example 1\n",
    "raw1 = \"\"\"\"Unsalable Asset\" means any Asset with respect to which the Collateral Manager certifies to the Trustee that (a) either (i) such Asset is (A) a Defaulted Obligation, (B) an Equity Security, (C) an obligation received in connection with an offer, in a restructuring or plan of reorganization with respect to the obligor, or (D) any other exchange or any other security or debt obligation that is part of the Assets, in the case of (A), (B) or (C) in respect of which the Issuer has not received a payment in cash during the preceding 12 months or (ii) such Asset has a Market Value of less than $10,000 and (b) the Collateral Manager has made commercially reasonable efforts to dispose of such Asset for at least 90 days and (y) in its commercially reasonable judgment such Asset is not expected to be saleable for the foreseeable future.\n",
    "\"\"\"\n",
    "\n",
    "# example 2\n",
    "raw2 = \"\"\"\"Unsalable Asset\" means any Asset with respect to which the Collateral Manager certifies to the Trustee that (a) either (i) such Asset is (A) a Defaulted Obligation, (B) an Equity Security, (C) an obligation received in connection with an offer, in a restructuring or plan of reorganization with respect to the obligor, or (D) any other exchange or any other security or debt obligation that is part of the Assets, in the case of (A), (B) or (C) in respect of which the Issuer has not received a payment in cash during the preceding 12 months or (ii) such Asset has a Market Value of less than $10,000 and (b) the Collateral Manager has made commercially reasonable efforts to dispose of such Asset for at least 90 days and (y) in its commercially reasonable judgment such Asset is not expected to be saleable for the foreseeable future.\n",
    "\"\"\"\n",
    "\n",
    "# example 1\n",
    "raw3 = \"\"\"\"Adjusted Weighted Average Moody's Rating Factor\": As of any date of determination, a number equal to the Weighted Average Moody's Rating Factor determined in the following manner\": for purposes of determining a Moody's Default Probability Rating or Moody's Rating in connection with determining the Weighted Average Moody's Rating Factor for purposes of this definition, each applicable rating on credit watch by Moody's that is on (a) positive watch will be treated as having been upgraded by one rating subcategory, (b) negative watch will be treated as having been downgraded by two rating subcategories and (c) negative outlook will be treated as having been downgraded by one rating subcategory.\n",
    "\"\"\"\n",
    "\n",
    "# example 1\n",
    "raw4 = \"\"\"\"Target Initial Par Condition\" means a condition satisfied as of the Effective Date if the aggregate principal balance of Collateral Obligations that are held by the Issuer and that the Issuer has committed to purchase on such date, together with the amount of any proceeds of prepayments, maturities or redemptions of Collateral Obligations purchased by the Issuer prior to such date (other than any such proceeds that have been reinvested in Collateral Obligations held by the Issuer on the Effective Date), will equal or exceed the Target Initial Par Amount; provided that for purposes of this definition, any Collateral Obligation that becomes a Defaulted Obligation prior to the Effective Date shall be treated as having a principal balance equal to its Moody's Collateral Value.\n",
    "\"\"\""
   ]
  },
  {
   "cell_type": "markdown",
   "metadata": {},
   "source": [
    "### Corpus"
   ]
  },
  {
   "cell_type": "code",
   "execution_count": 39,
   "metadata": {},
   "outputs": [],
   "source": [
    "stopwords_en = set(stopwords.words('english')) \n",
    "\n",
    "def preprosessing(raw):\n",
    "    wordlist = nltk.word_tokenize(raw)\n",
    "    text = [w.lower() for w in wordlist if w not in stopwords_en]\n",
    "    return text\n",
    "\n",
    "text1= preprosessing(raw1)\n",
    "text2= preprosessing(raw2)\n",
    "text3= preprosessing(raw3)\n",
    "text4= preprosessing(raw4)"
   ]
  },
  {
   "cell_type": "code",
   "execution_count": 40,
   "metadata": {},
   "outputs": [],
   "source": [
    "# raw1\n",
    "# text1"
   ]
  },
  {
   "cell_type": "code",
   "execution_count": null,
   "metadata": {},
   "outputs": [],
   "source": [
    "## Summarization\n"
   ]
  },
  {
   "cell_type": "code",
   "execution_count": null,
   "metadata": {},
   "outputs": [],
   "source": [
    "from gensim.similarities.docsim import Similarity\n",
    "from gensim import corpora, models, similarities\n",
    "lsi = models.LsiModel(text1, id2word=corpus, num_topics=2)\n",
    "\n",
    "vec_bow = dictionary.doc2bow(doc.lower().split())\n",
    "vec_lsi = lsi[vec_bow]\n",
    "index = similarities.MatrixSimilarity(lsi[corpus])\n",
    "sims = index[vec_lsi]\n",
    "sims = sorted(enumerate(sims), key=lambda item: -item[1])"
   ]
  },
  {
   "cell_type": "markdown",
   "metadata": {},
   "source": [
    "### Tf-idf matrix"
   ]
  },
  {
   "cell_type": "code",
   "execution_count": 41,
   "metadata": {},
   "outputs": [
    {
     "name": "stdout",
     "output_type": "stream",
     "text": [
      "TfidfTransformer(norm='l2', smooth_idf=True, sublinear_tf=False, use_idf=True)\n",
      "[[0.06138911 0.06138911 0.06138911 0.06138911 0.         0.\n",
      "  0.         0.18416732 0.08126564 0.12189846 0.         0.\n",
      "  0.         0.36833464 0.06138911 0.06138911 0.         0.\n",
      "  0.04063282 0.         0.         0.         0.06138911 0.06138911\n",
      "  0.06138911 0.09939955 0.12277821 0.         0.         0.04969977\n",
      "  0.         0.         0.06138911 0.06138911 0.         0.04969977\n",
      "  0.         0.         0.         0.         0.06138911 0.\n",
      "  0.06138911 0.         0.         0.06138911 0.06138911 0.\n",
      "  0.06138911 0.         0.06138911 0.06138911 0.         0.\n",
      "  0.08126564 0.06138911 0.06138911 0.14909932 0.         0.\n",
      "  0.         0.         0.06138911 0.24379692 0.         0.14909932\n",
      "  0.04969977 0.04969977 0.06138911 0.06138911 0.06138911 0.06138911\n",
      "  0.12277821 0.         0.06138911 0.         0.04969977 0.06138911\n",
      "  0.         0.         0.12277821 0.         0.14909932 0.\n",
      "  0.06138911 0.24379692 0.06138911 0.         0.         0.24379692\n",
      "  0.09939955 0.         0.         0.06138911 0.06138911 0.06138911\n",
      "  0.         0.06138911 0.         0.         0.         0.\n",
      "  0.         0.         0.         0.         0.         0.\n",
      "  0.12277821 0.12277821 0.         0.         0.06138911 0.18416732\n",
      "  0.06138911 0.06138911 0.         0.12277821 0.         0.\n",
      "  0.         0.19879909 0.         0.04969977 0.08126564 0.36569539\n",
      "  0.         0.2031641  0.         0.         0.06138911 0.\n",
      "  0.06138911 0.         0.04969977 0.         0.         0.12277821\n",
      "  0.         0.12189846]\n",
      " [0.06138911 0.06138911 0.06138911 0.06138911 0.         0.\n",
      "  0.         0.18416732 0.08126564 0.12189846 0.         0.\n",
      "  0.         0.36833464 0.06138911 0.06138911 0.         0.\n",
      "  0.04063282 0.         0.         0.         0.06138911 0.06138911\n",
      "  0.06138911 0.09939955 0.12277821 0.         0.         0.04969977\n",
      "  0.         0.         0.06138911 0.06138911 0.         0.04969977\n",
      "  0.         0.         0.         0.         0.06138911 0.\n",
      "  0.06138911 0.         0.         0.06138911 0.06138911 0.\n",
      "  0.06138911 0.         0.06138911 0.06138911 0.         0.\n",
      "  0.08126564 0.06138911 0.06138911 0.14909932 0.         0.\n",
      "  0.         0.         0.06138911 0.24379692 0.         0.14909932\n",
      "  0.04969977 0.04969977 0.06138911 0.06138911 0.06138911 0.06138911\n",
      "  0.12277821 0.         0.06138911 0.         0.04969977 0.06138911\n",
      "  0.         0.         0.12277821 0.         0.14909932 0.\n",
      "  0.06138911 0.24379692 0.06138911 0.         0.         0.24379692\n",
      "  0.09939955 0.         0.         0.06138911 0.06138911 0.06138911\n",
      "  0.         0.06138911 0.         0.         0.         0.\n",
      "  0.         0.         0.         0.         0.         0.\n",
      "  0.12277821 0.12277821 0.         0.         0.06138911 0.18416732\n",
      "  0.06138911 0.06138911 0.         0.12277821 0.         0.\n",
      "  0.         0.19879909 0.         0.04969977 0.08126564 0.36569539\n",
      "  0.         0.2031641  0.         0.         0.06138911 0.\n",
      "  0.06138911 0.         0.04969977 0.         0.         0.12277821\n",
      "  0.         0.12189846]\n",
      " [0.         0.         0.         0.         0.06468586 0.\n",
      "  0.         0.         0.03375576 0.03375576 0.06468586 0.\n",
      "  0.2039963  0.         0.         0.         0.19405758 0.\n",
      "  0.10126729 0.         0.15299722 0.2039963  0.         0.\n",
      "  0.         0.         0.         0.         0.         0.04128815\n",
      "  0.06468586 0.05099907 0.         0.         0.06468586 0.\n",
      "  0.05099907 0.06468586 0.06468586 0.12937172 0.         0.12937172\n",
      "  0.         0.06468586 0.         0.         0.         0.05099907\n",
      "  0.         0.         0.         0.         0.19405758 0.06468586\n",
      "  0.06751153 0.         0.         0.         0.         0.15299722\n",
      "  0.         0.         0.         0.06751153 0.         0.04128815\n",
      "  0.         0.         0.         0.         0.         0.\n",
      "  0.         0.06468586 0.         0.         0.         0.\n",
      "  0.30599445 0.12937172 0.         0.06468586 0.         0.\n",
      "  0.         0.13502306 0.         0.10199815 0.12937172 0.03375576\n",
      "  0.         0.06468586 0.         0.         0.         0.\n",
      "  0.06468586 0.         0.         0.         0.         0.06468586\n",
      "  0.         0.         0.         0.         0.10199815 0.58217274\n",
      "  0.         0.         0.         0.         0.         0.\n",
      "  0.         0.         0.         0.         0.         0.06468586\n",
      "  0.12937172 0.         0.         0.         0.03375576 0.10126729\n",
      "  0.05099907 0.03375576 0.         0.15299722 0.         0.06468586\n",
      "  0.         0.06468586 0.         0.19405758 0.19405758 0.\n",
      "  0.15299722 0.03375576]\n",
      " [0.         0.         0.         0.         0.         0.07322125\n",
      "  0.14644249 0.         0.03820988 0.11462965 0.         0.07322125\n",
      "  0.11545694 0.         0.         0.         0.         0.14644249\n",
      "  0.03820988 0.07322125 0.05772847 0.17318542 0.         0.\n",
      "  0.         0.23368087 0.         0.07322125 0.14644249 0.\n",
      "  0.         0.28864236 0.         0.         0.         0.04673617\n",
      "  0.05772847 0.         0.         0.         0.         0.\n",
      "  0.         0.         0.21966374 0.         0.         0.11545694\n",
      "  0.         0.07322125 0.         0.         0.         0.\n",
      "  0.03820988 0.         0.         0.04673617 0.07322125 0.05772847\n",
      "  0.14644249 0.07322125 0.         0.03820988 0.14644249 0.\n",
      "  0.18694469 0.04673617 0.         0.         0.         0.\n",
      "  0.         0.         0.         0.07322125 0.04673617 0.\n",
      "  0.05772847 0.         0.         0.         0.09347235 0.21966374\n",
      "  0.         0.22925931 0.         0.11545694 0.         0.07641977\n",
      "  0.04673617 0.         0.14644249 0.         0.         0.\n",
      "  0.         0.         0.07322125 0.14644249 0.14644249 0.\n",
      "  0.14644249 0.07322125 0.07322125 0.07322125 0.05772847 0.\n",
      "  0.         0.         0.07322125 0.07322125 0.         0.\n",
      "  0.         0.         0.07322125 0.         0.07322125 0.\n",
      "  0.         0.14020852 0.14644249 0.04673617 0.19104942 0.38209884\n",
      "  0.05772847 0.15283954 0.07322125 0.05772847 0.         0.\n",
      "  0.         0.         0.04673617 0.         0.         0.\n",
      "  0.05772847 0.03820988]]\n"
     ]
    }
   ],
   "source": [
    "from sklearn.feature_extraction.text import CountVectorizer\n",
    "\n",
    "corpus = [raw1, raw2, raw3, raw4]\n",
    "vectorizer = CountVectorizer()\n",
    "X = vectorizer.fit_transform(corpus)\n",
    "word = vectorizer.get_feature_names()\n",
    "# print (word)\n",
    "# frequency matrix\n",
    "# print (X.toarray())\n",
    " \n",
    "from sklearn.feature_extraction.text import TfidfTransformer\n",
    "transformer = TfidfTransformer()\n",
    "print (transformer)\n",
    "tfidf = transformer.fit_transform(X)\n",
    "# weight(tf-idf) matrix\n",
    "print (tfidf.toarray())"
   ]
  },
  {
   "cell_type": "markdown",
   "metadata": {},
   "source": [
    "### Word Embedding"
   ]
  },
  {
   "cell_type": "code",
   "execution_count": null,
   "metadata": {},
   "outputs": [],
   "source": [
    "from "
   ]
  },
  {
   "cell_type": "markdown",
   "metadata": {},
   "source": [
    "### Distance Computation"
   ]
  },
  {
   "cell_type": "code",
   "execution_count": null,
   "metadata": {},
   "outputs": [],
   "source": []
  },
  {
   "cell_type": "markdown",
   "metadata": {},
   "source": [
    "### Summarization"
   ]
  },
  {
   "cell_type": "code",
   "execution_count": null,
   "metadata": {},
   "outputs": [],
   "source": [
    "striptext = (raw4).replace('\\n\\n', ' ')\n",
    "striptext = striptext.replace('\\n', ' ')\n",
    "summary = gensim.summarization.summarize(striptext, word_count=20) "
   ]
  },
  {
   "cell_type": "code",
   "execution_count": 68,
   "metadata": {},
   "outputs": [
    {
     "ename": "AttributeError",
     "evalue": "'list' object has no attribute 'keys'",
     "output_type": "error",
     "traceback": [
      "\u001b[0;31m---------------------------------------------------------------------------\u001b[0m",
      "\u001b[0;31mAttributeError\u001b[0m                            Traceback (most recent call last)",
      "\u001b[0;32m<ipython-input-68-0bec56b75a7a>\u001b[0m in \u001b[0;36m<module>\u001b[0;34m()\u001b[0m\n\u001b[1;32m      1\u001b[0m \u001b[0;32mfrom\u001b[0m \u001b[0mgensim\u001b[0m\u001b[0;34m.\u001b[0m\u001b[0msimilarities\u001b[0m\u001b[0;34m.\u001b[0m\u001b[0mdocsim\u001b[0m \u001b[0;32mimport\u001b[0m \u001b[0mSimilarity\u001b[0m\u001b[0;34m\u001b[0m\u001b[0;34m\u001b[0m\u001b[0m\n\u001b[1;32m      2\u001b[0m \u001b[0;32mfrom\u001b[0m \u001b[0mgensim\u001b[0m \u001b[0;32mimport\u001b[0m \u001b[0mcorpora\u001b[0m\u001b[0;34m,\u001b[0m \u001b[0mmodels\u001b[0m\u001b[0;34m,\u001b[0m \u001b[0msimilarities\u001b[0m\u001b[0;34m\u001b[0m\u001b[0;34m\u001b[0m\u001b[0m\n\u001b[0;32m----> 3\u001b[0;31m \u001b[0mlsi\u001b[0m \u001b[0;34m=\u001b[0m \u001b[0mmodels\u001b[0m\u001b[0;34m.\u001b[0m\u001b[0mLsiModel\u001b[0m\u001b[0;34m(\u001b[0m\u001b[0mtext1\u001b[0m\u001b[0;34m,\u001b[0m \u001b[0mid2word\u001b[0m\u001b[0;34m=\u001b[0m\u001b[0mcorpus\u001b[0m\u001b[0;34m,\u001b[0m \u001b[0mnum_topics\u001b[0m\u001b[0;34m=\u001b[0m\u001b[0;36m2\u001b[0m\u001b[0;34m)\u001b[0m\u001b[0;34m\u001b[0m\u001b[0;34m\u001b[0m\u001b[0m\n\u001b[0m\u001b[1;32m      4\u001b[0m \u001b[0;34m\u001b[0m\u001b[0m\n\u001b[1;32m      5\u001b[0m \u001b[0mvec_bow\u001b[0m \u001b[0;34m=\u001b[0m \u001b[0mdictionary\u001b[0m\u001b[0;34m.\u001b[0m\u001b[0mdoc2bow\u001b[0m\u001b[0;34m(\u001b[0m\u001b[0mdoc\u001b[0m\u001b[0;34m.\u001b[0m\u001b[0mlower\u001b[0m\u001b[0;34m(\u001b[0m\u001b[0;34m)\u001b[0m\u001b[0;34m.\u001b[0m\u001b[0msplit\u001b[0m\u001b[0;34m(\u001b[0m\u001b[0;34m)\u001b[0m\u001b[0;34m)\u001b[0m\u001b[0;34m\u001b[0m\u001b[0;34m\u001b[0m\u001b[0m\n",
      "\u001b[0;32m/anaconda3/lib/python3.6/site-packages/gensim/models/lsimodel.py\u001b[0m in \u001b[0;36m__init__\u001b[0;34m(self, corpus, num_topics, id2word, chunksize, decay, distributed, onepass, power_iters, extra_samples, dtype)\u001b[0m\n\u001b[1;32m    405\u001b[0m             \u001b[0mself\u001b[0m\u001b[0;34m.\u001b[0m\u001b[0mnum_terms\u001b[0m \u001b[0;34m=\u001b[0m \u001b[0mlen\u001b[0m\u001b[0;34m(\u001b[0m\u001b[0mself\u001b[0m\u001b[0;34m.\u001b[0m\u001b[0mid2word\u001b[0m\u001b[0;34m)\u001b[0m\u001b[0;34m\u001b[0m\u001b[0;34m\u001b[0m\u001b[0m\n\u001b[1;32m    406\u001b[0m         \u001b[0;32melse\u001b[0m\u001b[0;34m:\u001b[0m\u001b[0;34m\u001b[0m\u001b[0;34m\u001b[0m\u001b[0m\n\u001b[0;32m--> 407\u001b[0;31m             \u001b[0mself\u001b[0m\u001b[0;34m.\u001b[0m\u001b[0mnum_terms\u001b[0m \u001b[0;34m=\u001b[0m \u001b[0;36m1\u001b[0m \u001b[0;34m+\u001b[0m \u001b[0;34m(\u001b[0m\u001b[0mmax\u001b[0m\u001b[0;34m(\u001b[0m\u001b[0mself\u001b[0m\u001b[0;34m.\u001b[0m\u001b[0mid2word\u001b[0m\u001b[0;34m.\u001b[0m\u001b[0mkeys\u001b[0m\u001b[0;34m(\u001b[0m\u001b[0;34m)\u001b[0m\u001b[0;34m)\u001b[0m \u001b[0;32mif\u001b[0m \u001b[0mself\u001b[0m\u001b[0;34m.\u001b[0m\u001b[0mid2word\u001b[0m \u001b[0;32melse\u001b[0m \u001b[0;34m-\u001b[0m\u001b[0;36m1\u001b[0m\u001b[0;34m)\u001b[0m\u001b[0;34m\u001b[0m\u001b[0;34m\u001b[0m\u001b[0m\n\u001b[0m\u001b[1;32m    408\u001b[0m \u001b[0;34m\u001b[0m\u001b[0m\n\u001b[1;32m    409\u001b[0m         \u001b[0mself\u001b[0m\u001b[0;34m.\u001b[0m\u001b[0mdocs_processed\u001b[0m \u001b[0;34m=\u001b[0m \u001b[0;36m0\u001b[0m\u001b[0;34m\u001b[0m\u001b[0;34m\u001b[0m\u001b[0m\n",
      "\u001b[0;31mAttributeError\u001b[0m: 'list' object has no attribute 'keys'"
     ]
    }
   ],
   "source": [
    "from gensim.similarities.docsim import Similarity\n",
    "from gensim import corpora, models, similarities\n",
    "lsi = models.LsiModel(text1, id2word=corpus, num_topics=2)\n",
    "\n",
    "vec_bow = dictionary.doc2bow(doc.lower().split())\n",
    "vec_lsi = lsi[vec_bow]\n",
    "index = similarities.MatrixSimilarity(lsi[corpus])\n",
    "sims = index[vec_lsi]\n",
    "sims = sorted(enumerate(sims), key=lambda item: -item[1])"
   ]
  },
  {
   "cell_type": "code",
   "execution_count": null,
   "metadata": {},
   "outputs": [],
   "source": []
  },
  {
   "cell_type": "code",
   "execution_count": 22,
   "metadata": {},
   "outputs": [],
   "source": [
    "# def tf(text):\n",
    "#     freqd_text = FreqDist(text)\n",
    "#     text_length = len(text)\n",
    "#     text_tf_dict = dict.fromkeys(word_set,0)\n",
    "#     for word in text:\n",
    "#         text_tf_dict[word] =freqd_text[word]/text_length\n",
    "#     return text_tf_dict\n",
    "\n",
    "# text1_tf_dict = tf(text1)\n",
    "# text2_tf_dict = tf(text2)\n",
    "# text3_tf_dict = tf(text3)\n",
    "# text4_tf_dict = tf(text4)"
   ]
  },
  {
   "cell_type": "code",
   "execution_count": 23,
   "metadata": {},
   "outputs": [],
   "source": [
    "# def idf(text):\n",
    "#     import math\n",
    "#     text_len = 4 # 4 texts\n",
    "#     text_idf_dict = dict.fromkeys(word_set,0)\n",
    "#     for word in text_idf_dict.keys():\n",
    "#         if word in text:\n",
    "#             text_idf_dict[word] += 1\n",
    "#     for word,val in text_idf_dict.items():\n",
    "#         text_idf_dict[word] = 1 + math.log(text_len/float(val))\n",
    "#     return text_idf_dict"
   ]
  },
  {
   "cell_type": "code",
   "execution_count": null,
   "metadata": {},
   "outputs": [],
   "source": [
    "# https://www.analyticsindiamag.com/nlp-case-study-identifabsy/"
   ]
  }
 ],
 "metadata": {
  "kernelspec": {
   "display_name": "Python 3",
   "language": "python",
   "name": "python3"
  },
  "language_info": {
   "codemirror_mode": {
    "name": "ipython",
    "version": 3
   },
   "file_extension": ".py",
   "mimetype": "text/x-python",
   "name": "python",
   "nbconvert_exporter": "python",
   "pygments_lexer": "ipython3",
   "version": "3.6.8"
  },
  "toc": {
   "nav_menu": {},
   "number_sections": true,
   "sideBar": true,
   "skip_h1_title": false,
   "toc_cell": false,
   "toc_position": {
    "height": "702px",
    "left": "0px",
    "right": "1228px",
    "top": "110px",
    "width": "212px"
   },
   "toc_section_display": true,
   "toc_window_display": true
  }
 },
 "nbformat": 4,
 "nbformat_minor": 2
}
